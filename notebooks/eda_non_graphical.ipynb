{
 "cells": [
  {
   "cell_type": "code",
   "execution_count": 6,
   "metadata": {},
   "outputs": [
    {
     "name": "stdout",
     "output_type": "stream",
     "text": [
      "c:\\Users\\busin\\Documents\\GIT\\dataanalyticsproject\\dataanalyticsproject\\database\\db_connection.py\n",
      "['__class__', '__delattr__', '__dict__', '__dir__', '__doc__', '__eq__', '__format__', '__ge__', '__getattribute__', '__getstate__', '__gt__', '__hash__', '__init__', '__init_subclass__', '__le__', '__lt__', '__module__', '__ne__', '__new__', '__reduce__', '__reduce_ex__', '__repr__', '__setattr__', '__sizeof__', '__str__', '__subclasshook__', '__weakref__', 'close_connection', 'connect', 'connection', 'database', 'get_connection', 'host', 'password', 'user']\n"
     ]
    },
    {
     "ename": "AttributeError",
     "evalue": "'DatabaseConnector' object has no attribute 'get_engine'",
     "output_type": "error",
     "traceback": [
      "\u001b[1;31m---------------------------------------------------------------------------\u001b[0m",
      "\u001b[1;31mAttributeError\u001b[0m                            Traceback (most recent call last)",
      "Cell \u001b[1;32mIn[6], line 20\u001b[0m\n\u001b[0;32m     17\u001b[0m db_connector \u001b[38;5;241m=\u001b[39m DatabaseConnector()\n\u001b[0;32m     18\u001b[0m \u001b[38;5;28mprint\u001b[39m(\u001b[38;5;28mdir\u001b[39m(db_connector))\n\u001b[1;32m---> 20\u001b[0m engine \u001b[38;5;241m=\u001b[39m \u001b[43mdb_connector\u001b[49m\u001b[38;5;241;43m.\u001b[39;49m\u001b[43mget_engine\u001b[49m()\n\u001b[0;32m     22\u001b[0m \u001b[38;5;66;03m# SQL-Queries zum Laden der Daten\u001b[39;00m\n\u001b[0;32m     23\u001b[0m query_forecast \u001b[38;5;241m=\u001b[39m \u001b[38;5;124m\"\u001b[39m\u001b[38;5;124mSELECT * FROM historical_forecast;\u001b[39m\u001b[38;5;124m\"\u001b[39m\n",
      "\u001b[1;31mAttributeError\u001b[0m: 'DatabaseConnector' object has no attribute 'get_engine'"
     ]
    }
   ],
   "source": [
    "# Bibliotheken importieren\n",
    "import sys\n",
    "import os\n",
    "import pandas as pd\n",
    "import numpy as np\n",
    "\n",
    "# Pfad zum Projektverzeichnis hinzufügen\n",
    "sys.path.append(os.path.abspath(\"..\"))\n",
    "\n",
    "# Verbindung zur Datenbank herstellen\n",
    "from database.db_connection import DatabaseConnector\n",
    "\n",
    "db_connector = DatabaseConnector()\n",
    "\n",
    "print(database.db_connection.__file__)\n",
    "print(dir(db_connector))\n",
    "\n",
    "engine = db_connector.get_engine()\n",
    "\n",
    "# SQL-Queries zum Laden der Daten\n",
    "query_forecast = \"SELECT * FROM historical_forecast;\"\n",
    "query_weather = \"SELECT * FROM historical_weather;\"\n",
    "\n",
    "# Daten laden\n",
    "forecast_df = pd.read_sql(query_forecast, engine)\n",
    "weather_df = pd.read_sql(query_weather, engine)\n",
    "\n",
    "# Überblick über die Forecast-Daten\n",
    "print(\"=== Forecast DataFrame ===\")\n",
    "print(forecast_df.info())  # Struktur der Daten\n",
    "print(forecast_df.head())  # Erste 5 Zeilen anzeigen\n",
    "\n",
    "# Überblick über die Wetter-Daten\n",
    "print(\"\\n=== Weather DataFrame ===\")\n",
    "print(weather_df.info())  # Struktur der Daten\n",
    "print(weather_df.head())  # Erste 5 Zeilen anzeigen\n"
   ]
  }
 ],
 "metadata": {
  "kernelspec": {
   "display_name": "venv",
   "language": "python",
   "name": "python3"
  },
  "language_info": {
   "codemirror_mode": {
    "name": "ipython",
    "version": 3
   },
   "file_extension": ".py",
   "mimetype": "text/x-python",
   "name": "python",
   "nbconvert_exporter": "python",
   "pygments_lexer": "ipython3",
   "version": "3.12.6"
  }
 },
 "nbformat": 4,
 "nbformat_minor": 2
}
